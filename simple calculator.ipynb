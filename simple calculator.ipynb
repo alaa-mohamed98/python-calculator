{
 "cells": [
  {
   "cell_type": "code",
   "execution_count": 5,
   "id": "b3d10a63-d7d0-4f08-a0ef-a520ba386fbb",
   "metadata": {},
   "outputs": [
    {
     "name": "stdin",
     "output_type": "stream",
     "text": [
      "Enter Your First Number 30\n",
      "Enter Your Second Number 5\n",
      "Enter Your Operator /\n"
     ]
    },
    {
     "name": "stdout",
     "output_type": "stream",
     "text": [
      "The Result is6.0\n"
     ]
    }
   ],
   "source": [
    "fnum=float(input(\"Enter Your First Number\"))\n",
    "snum=float(input(\"Enter Your Second Number\"))\n",
    "op=input(\"Enter Your Operator\")\n",
    "if op ==\"+\":\n",
    "    add=fnum+snum\n",
    "    print(\"The Result is\"+ str(add))\n",
    "elif op==\"-\":\n",
    "    sub=fnum-snum\n",
    "    print(\"The Result is\"+ str(sub))\n",
    "elif op==\"*\":\n",
    "    multi=fnum*snum\n",
    "    print(\"The Result is\"+ str(multi))\n",
    "elif op==\"/\":\n",
    "    div=fnum/snum\n",
    "    print(\"The Result is\"+ str(div))\n",
    "elif op==\"%\":\n",
    "    rem=fnum%snum\n",
    "    print(\"The Result is\"+ str(rem))"
   ]
  },
  {
   "cell_type": "code",
   "execution_count": null,
   "id": "b40552f7-e390-4578-9c7b-264aaa027ec7",
   "metadata": {},
   "outputs": [],
   "source": []
  }
 ],
 "metadata": {
  "kernelspec": {
   "display_name": "Python 3",
   "language": "python",
   "name": "python3"
  },
  "language_info": {
   "codemirror_mode": {
    "name": "ipython",
    "version": 3
   },
   "file_extension": ".py",
   "mimetype": "text/x-python",
   "name": "python",
   "nbconvert_exporter": "python",
   "pygments_lexer": "ipython3",
   "version": "3.7.8"
  }
 },
 "nbformat": 4,
 "nbformat_minor": 5
}
